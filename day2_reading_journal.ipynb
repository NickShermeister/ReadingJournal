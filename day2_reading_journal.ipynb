{
 "cells": [
  {
   "cell_type": "markdown",
   "metadata": {},
   "source": [
    "# Day 2 Reading Journal\n",
    "\n",
    "This journal includes several required exercises, but it is meant to encourage active reading more generally.  You should use the journal to take detailed notes, catalog questions, and explore the content from Think Python deeply.\n",
    "\n",
    "Reading: Think Python Chapter 6.1-6.4, 7\n",
    "\n",
    "**Due: Tuesday, January 24 at 12 noon**\n",
    "\n"
   ]
  },
  {
   "cell_type": "markdown",
   "metadata": {},
   "source": [
    "## [Chapter 6.1-6.4](http://greenteapress.com/thinkpython2/html/thinkpython2007.html)\n",
    "\n",
    "Note: the exercise numbers below match up with the reading for ease of cross referencing."
   ]
  },
  {
   "cell_type": "markdown",
   "metadata": {},
   "source": [
    "**Quick check:** What is a _fruitful function_?"
   ]
  },
  {
   "cell_type": "markdown",
   "metadata": {},
   "source": [
    "A fruitful function is a function that returns a value, string, or boolean. "
   ]
  },
  {
   "cell_type": "markdown",
   "metadata": {},
   "source": [
    "### Chapter 6.1 \n",
    "Write a `compare` function that returns `1` if `x > y`, `0` if `x == y`, and `-1` if `x < y`."
   ]
  },
  {
   "cell_type": "code",
   "execution_count": null,
   "metadata": {
    "collapsed": false
   },
   "outputs": [],
   "source": [
    "def compare_function(x, y):\n",
    "    if x > y:\n",
    "        return 1\n",
    "    elif x == y:\n",
    "        return 0\n",
    "    else:\n",
    "        return -1\n",
    "\n",
    "compare_function(2, 3)    "
   ]
  },
  {
   "cell_type": "markdown",
   "metadata": {},
   "source": [
    "**Quick check:** Modify the `absolute_value` function so that it returns the correct result for all integer inputs."
   ]
  },
  {
   "cell_type": "code",
   "execution_count": 9,
   "metadata": {
    "collapsed": false
   },
   "outputs": [
    {
     "data": {
      "text/plain": [
       "0"
      ]
     },
     "execution_count": 9,
     "metadata": {},
     "output_type": "execute_result"
    }
   ],
   "source": [
    "def absolute_value(x):\n",
    "    if x < 0:\n",
    "        return -x\n",
    "    elif x > 0:\n",
    "        return x\n",
    "    else:\n",
    "        return 0\n",
    "    \n",
    "absolute_value(0)"
   ]
  },
  {
   "cell_type": "markdown",
   "metadata": {},
   "source": [
    "### Chapter 6.2 \n",
    "Use incremental development to write a function called `hypotenuse` that returns the length of the hypotenuse of a right triangle given the lengths of the two legs as arguments. Record each stage of the development process as you go, using as many cells as you need."
   ]
  },
  {
   "cell_type": "code",
   "execution_count": 10,
   "metadata": {
    "collapsed": false
   },
   "outputs": [
    {
     "data": {
      "text/plain": [
       "0"
      ]
     },
     "execution_count": 10,
     "metadata": {},
     "output_type": "execute_result"
    }
   ],
   "source": [
    "def hypotenuse(legOne, legTwo):\n",
    "    return 0\n",
    "\n",
    "hypotenuse(3, 4)"
   ]
  },
  {
   "cell_type": "code",
   "execution_count": 11,
   "metadata": {
    "collapsed": false
   },
   "outputs": [
    {
     "data": {
      "text/plain": [
       "25"
      ]
     },
     "execution_count": 11,
     "metadata": {},
     "output_type": "execute_result"
    }
   ],
   "source": [
    "def hypotenuse(legOne, legTwo):\n",
    "    hypotenuSQ = legOne**2 + legTwo**2\n",
    "    return hypotenuSQ\n",
    "\n",
    "hypotenuse(3, 4)"
   ]
  },
  {
   "cell_type": "code",
   "execution_count": null,
   "metadata": {
    "collapsed": false
   },
   "outputs": [],
   "source": [
    "import math\n",
    "def hypotenuse(legOne, legTwo):\n",
    "    hypotenuSQ = legOne**2 + legTwo**2\n",
    "    return math.sqrt(hypotenuSQ)\n",
    "\n",
    "hypotenuse(3, 4)"
   ]
  },
  {
   "cell_type": "markdown",
   "metadata": {},
   "source": [
    "### Chapter 6.4\n",
    "Write a function `is_between(x, y, z)` that returns `True` if `x ≤ y ≤ z` or `False` otherwise."
   ]
  },
  {
   "cell_type": "code",
   "execution_count": 5,
   "metadata": {
    "collapsed": false
   },
   "outputs": [
    {
     "name": "stdout",
     "output_type": "stream",
     "text": [
      "x:2\n",
      "y:2\n",
      "z:2\n"
     ]
    },
    {
     "data": {
      "text/plain": [
       "True"
      ]
     },
     "execution_count": 5,
     "metadata": {},
     "output_type": "execute_result"
    }
   ],
   "source": [
    "def is_between(x, y, z):\n",
    "    if (y >= x) and (y <= z):\n",
    "        return True\n",
    "    else:\n",
    "        return False\n",
    "\n",
    "\n",
    "\n",
    "xx = input('x:')\n",
    "yy = input('y:')\n",
    "zz = input('z:')\n",
    "is_between(xx, yy, zz)"
   ]
  },
  {
   "cell_type": "markdown",
   "metadata": {},
   "source": [
    "## [Chapter 7](http://greenteapress.com/thinkpython2/html/thinkpython2008.html)\n",
    "\n"
   ]
  },
  {
   "cell_type": "markdown",
   "metadata": {},
   "source": [
    "**Quick check:** How do you test for equality in Python?"
   ]
  },
  {
   "cell_type": "markdown",
   "metadata": {},
   "source": [
    "You use the == sign. "
   ]
  },
  {
   "cell_type": "markdown",
   "metadata": {},
   "source": [
    "**Challenge:** Prove/disprove the Collatz conjecture :)"
   ]
  },
  {
   "cell_type": "markdown",
   "metadata": {},
   "source": [
    "#Ha. That's amusing."
   ]
  },
  {
   "cell_type": "markdown",
   "metadata": {},
   "source": [
    "### Chapter 7.5\n",
    "Encapsulate the loop from Section 7.5 in a function called `square_root` that takes `a` as a parameter, chooses a reasonable value of `x`, and returns an estimate of the square root of `a`."
   ]
  },
  {
   "cell_type": "code",
   "execution_count": 8,
   "metadata": {
    "collapsed": false
   },
   "outputs": [
    {
     "name": "stdout",
     "output_type": "stream",
     "text": [
      "a:9999999999999999999999999999999999999999999999999999999999999999999999999999999999999999999\n",
      "5e+90\n",
      "2.5e+90\n",
      "1.25e+90\n",
      "6.25e+89\n",
      "3.125e+89\n",
      "1.5625e+89\n",
      "7.8125e+88\n",
      "3.90625e+88\n",
      "1.953125e+88\n",
      "9.765625e+87\n",
      "4.8828125e+87\n",
      "2.44140625e+87\n",
      "1.220703125e+87\n",
      "6.103515625e+86\n",
      "3.0517578125e+86\n",
      "1.52587890625e+86\n",
      "7.62939453125e+85\n",
      "3.814697265625e+85\n",
      "1.9073486328125e+85\n",
      "9.5367431640625e+84\n",
      "4.76837158203125e+84\n",
      "2.384185791015625e+84\n",
      "1.1920928955078126e+84\n",
      "5.960464477539063e+83\n",
      "2.9802322387695315e+83\n",
      "1.4901161193847657e+83\n",
      "7.450580596923829e+82\n",
      "3.7252902984619144e+82\n",
      "1.8626451492309572e+82\n",
      "9.313225746154786e+81\n",
      "4.656612873077393e+81\n",
      "2.3283064365386965e+81\n",
      "1.1641532182693482e+81\n",
      "5.820766091346741e+80\n",
      "2.9103830456733706e+80\n",
      "1.4551915228366853e+80\n",
      "7.275957614183426e+79\n",
      "3.637978807091713e+79\n",
      "1.8189894035458566e+79\n",
      "9.094947017729283e+78\n",
      "4.5474735088646416e+78\n",
      "2.2737367544323208e+78\n",
      "1.1368683772161604e+78\n",
      "5.684341886080802e+77\n",
      "2.842170943040401e+77\n",
      "1.4210854715202005e+77\n",
      "7.105427357601002e+76\n",
      "3.552713678800501e+76\n",
      "1.7763568394002506e+76\n",
      "8.881784197001253e+75\n",
      "4.4408920985006265e+75\n",
      "2.2204460492503133e+75\n",
      "1.1102230246251566e+75\n",
      "5.551115123125783e+74\n",
      "2.7755575615628916e+74\n",
      "1.3877787807814458e+74\n",
      "6.938893903907229e+73\n",
      "3.4694469519536145e+73\n",
      "1.7347234759768072e+73\n",
      "8.673617379884036e+72\n",
      "4.336808689942018e+72\n",
      "2.168404344971009e+72\n",
      "1.0842021724855045e+72\n",
      "5.421010862427523e+71\n",
      "2.7105054312137613e+71\n",
      "1.3552527156068807e+71\n",
      "6.776263578034403e+70\n",
      "3.3881317890172016e+70\n",
      "1.6940658945086008e+70\n",
      "8.470329472543004e+69\n",
      "4.235164736271502e+69\n",
      "2.117582368135751e+69\n",
      "1.0587911840678755e+69\n",
      "5.293955920339378e+68\n",
      "2.646977960169689e+68\n",
      "1.3234889800848444e+68\n",
      "6.617444900424222e+67\n",
      "3.308722450212111e+67\n",
      "1.6543612251060555e+67\n",
      "8.271806125530277e+66\n",
      "4.135903062765139e+66\n",
      "2.0679515313825694e+66\n",
      "1.0339757656912847e+66\n",
      "5.169878828456423e+65\n",
      "2.5849394142282117e+65\n",
      "1.2924697071141058e+65\n",
      "6.462348535570529e+64\n",
      "3.2311742677852646e+64\n",
      "1.6155871338926323e+64\n",
      "8.077935669463162e+63\n",
      "4.038967834731581e+63\n",
      "2.0194839173657904e+63\n",
      "1.0097419586828952e+63\n",
      "5.048709793414476e+62\n",
      "2.524354896707238e+62\n",
      "1.262177448353619e+62\n",
      "6.310887241768095e+61\n",
      "3.1554436208840475e+61\n",
      "1.5777218104420237e+61\n",
      "7.888609052210119e+60\n",
      "3.944304526105059e+60\n",
      "1.9721522630525297e+60\n",
      "9.860761315262648e+59\n",
      "4.930380657631324e+59\n",
      "2.465190328815662e+59\n",
      "1.232595164407831e+59\n",
      "6.162975822039155e+58\n",
      "3.0814879110195776e+58\n",
      "1.5407439555097888e+58\n",
      "7.703719777548944e+57\n",
      "3.851859888774472e+57\n",
      "1.925929944387236e+57\n",
      "9.62964972193618e+56\n",
      "4.81482486096809e+56\n",
      "2.407412430484045e+56\n",
      "1.2037062152420225e+56\n",
      "6.018531076210113e+55\n",
      "3.009265538105056e+55\n",
      "1.504632769052528e+55\n",
      "7.52316384526264e+54\n",
      "3.76158192263132e+54\n",
      "1.88079096131566e+54\n",
      "9.4039548065783e+53\n",
      "4.70197740328915e+53\n",
      "2.350988701644575e+53\n",
      "1.1754943508222878e+53\n",
      "5.877471754111443e+52\n",
      "2.93873587705573e+52\n",
      "1.469367938527882e+52\n",
      "7.346839692639751e+51\n",
      "3.673419846320556e+51\n",
      "1.836709923161639e+51\n",
      "9.183549615835418e+50\n",
      "4.591774807972154e+50\n",
      "2.2958874040949675e+50\n",
      "1.1479437022652645e+50\n",
      "5.739718515681937e+49\n",
      "2.869859266552197e+49\n",
      "1.4349296506985556e+49\n",
      "7.174648601941917e+48\n",
      "3.5873249978692003e+48\n",
      "1.7936638927308142e+48\n",
      "8.968347339556687e+47\n",
      "4.484229421410285e+47\n",
      "2.2422262125827254e+47\n",
      "1.1213360989569528e+47\n",
      "5.611139461195148e+46\n",
      "2.81448057666472e+46\n",
      "1.4250055557193718e+46\n",
      "7.47590360360204e+45\n",
      "4.4067672741662466e+45\n",
      "3.338002210955054e+45\n",
      "3.166903049218128e+45\n",
      "3.162281037951584e+45\n",
      "3.1622776601701834e+45\n",
      "3.1622776601683795e+45\n"
     ]
    }
   ],
   "source": [
    "def square_root(a):\n",
    "    x = a/2    \n",
    "    while True:\n",
    "        print(x)\n",
    "        y = (x + a/x)/2\n",
    "        if y == x:\n",
    "            break\n",
    "        x = y\n",
    "    \n",
    "\n",
    "\n",
    "square = int(input('a:'))\n",
    "square_root(square)"
   ]
  },
  {
   "cell_type": "markdown",
   "metadata": {},
   "source": [
    "### Exercise 7.1  \n",
    "To test the square root algorithm you developed in Exercise 2, you could compare it with Python's `math.sqrt` function. Write a function named `test_square_root` that prints a table like this:\n",
    "\n",
    "```python\n",
    "1.0 1.0           1.0           0.0\n",
    "2.0 1.41421356237 1.41421356237 2.22044604925e-16\n",
    "3.0 1.73205080757 1.73205080757 0.0\n",
    "4.0 2.0           2.0           0.0\n",
    "5.0 2.2360679775  2.2360679775  0.0\n",
    "6.0 2.44948974278 2.44948974278 0.0\n",
    "7.0 2.64575131106 2.64575131106 0.0\n",
    "8.0 2.82842712475 2.82842712475 4.4408920985e-16\n",
    "9.0 3.0           3.0           0.0\n",
    "```\n",
    "\n",
    "The first column is a number, `a`; the second column is the square root of a computed with the function from Section 7.5; the third column is the square root computed by `math.sqrt`; the fourth column is the absolute value of the difference between the two estimates."
   ]
  },
  {
   "cell_type": "code",
   "execution_count": 23,
   "metadata": {
    "collapsed": false
   },
   "outputs": [
    {
     "name": "stdout",
     "output_type": "stream",
     "text": [
      "1.0 1.0                 1.0                 0.0\n",
      "2.0 1.414213562373095   1.4142135623730951  2.220446049250313e-16\n",
      "3.0 1.7320508075688772  1.7320508075688772  0.0\n",
      "4.0 2.0                 2.0                 0.0\n",
      "5.0 2.23606797749979    2.23606797749979    0.0\n",
      "6.0 2.449489742783178   2.449489742783178   0.0\n",
      "7.0 2.6457513110645907  2.6457513110645907  0.0\n",
      "8.0 2.82842712474619    2.8284271247461903  4.440892098500626e-16\n",
      "9.0 3.0                 3.0                 0.0\n"
     ]
    }
   ],
   "source": [
    "import math\n",
    "def test_square_root(x):\n",
    "    x = float(x)\n",
    "    counter = 1.0\n",
    "    while counter <= x:\n",
    "        string = str(counter) + ' ' + str(square_root(counter)) + ' '*(20-len(str(square_root(counter))))\n",
    "        string = string + str(math.sqrt(counter)) + ' '*(20-len(str(math.sqrt(counter))))\n",
    "        string = string + str(abs(square_root(counter)-math.sqrt(counter)))\n",
    "        print(string)\n",
    "        counter = counter + 1\n",
    "\n",
    "def square_root(a):\n",
    "    z = a/2    \n",
    "    while True:\n",
    "        y = (z + a/z)/2\n",
    "        if y == z:\n",
    "            break\n",
    "        z = y\n",
    "    return z\n",
    "        \n",
    "    \n",
    "test_square_root(9)"
   ]
  },
  {
   "cell_type": "markdown",
   "metadata": {},
   "source": [
    "### Challenge: Exercise 7.3  (optional)\n",
    "The mathematician Srinivasa Ramanujan found an infinite series that can be used to generate a numerical approximation of\n",
    "$\\frac{1}{\\pi}$:\n",
    "\n",
    "$$\\frac{1}{\\pi} = \\frac{2 \\sqrt{2}}{9801} \\sum_{k=0}^{\\infty} \\frac{(4k)! (1103+26390k)}{(k!)^4 396^{4k}}$$\n",
    " \n",
    "Write a function called `estimate_pi` that uses this formula to compute and return an estimate of $\\pi$. It should use a `while` loop to compute terms of the summation until the last term is smaller than `1e-15` (which is Python notation for $10^{−15}$). You can check the result by comparing it to `math.pi`.\n",
    "\n",
    "[Possible solution](http://thinkpython.com/code/pi.py) (give the exercise a try before viewing the solution)"
   ]
  },
  {
   "cell_type": "code",
   "execution_count": 4,
   "metadata": {
    "collapsed": false
   },
   "outputs": [
    {
     "name": "stdout",
     "output_type": "stream",
     "text": [
      "0.31830988618379064\n",
      "0.3183098861837907\n"
     ]
    }
   ],
   "source": [
    "import math\n",
    "def estimate_pi():\n",
    "    k = 0\n",
    "    estimate = 2*math.sqrt(2)/9801*(math.factorial(4*k)*(1103 + 26390*k)/((math.factorial(k))**4 *396**(4*k)))\n",
    "    diff = 1\n",
    "    while (abs(diff) > 1e-15):  \n",
    "        k +=1\n",
    "        estimate = estimate + 2*math.sqrt(2)/9801*(math.factorial(4*k)*(1103 + 26390*k)/((math.factorial(k))**4 *396**(4*k)))\n",
    "        print(estimate)\n",
    "        diff =  (1/math.pi) - estimate\n",
    "        #print(diff)\n",
    "        if k > 1000:\n",
    "            break\n",
    "        \n",
    "estimate_pi()\n",
    "print((1/math.pi))"
   ]
  },
  {
   "cell_type": "markdown",
   "metadata": {},
   "source": [
    "## Quick poll\n",
    "\n",
    "About how long did you spend working on this Reading Journal?"
   ]
  },
  {
   "cell_type": "markdown",
   "metadata": {},
   "source": [
    "Just under an hour for the non-challenge portion, about 30 minutes on the challenge part"
   ]
  },
  {
   "cell_type": "markdown",
   "metadata": {},
   "source": [
    "## Reading Journal feedback\n",
    "\n",
    "Have any comments on this Reading Journal? Feel free to leave them below and we'll read them when you submit your journal entry. This could include suggestions to improve the exercises, topics you'd like to see covered in class next time, or other feedback.\n",
    "\n",
    "If you have Python questions or run into problems while completing the reading, you should post them to Piazza instead so you can get a quick response before your journal is submitted."
   ]
  },
  {
   "cell_type": "markdown",
   "metadata": {},
   "source": [
    "Everything seems to be going pretty smoothly."
   ]
  },
  {
   "cell_type": "markdown",
   "metadata": {},
   "source": [
    " "
   ]
  }
 ],
 "metadata": {
  "kernelspec": {
   "display_name": "Python 3",
   "language": "python",
   "name": "python3"
  },
  "language_info": {
   "codemirror_mode": {
    "name": "ipython",
    "version": 3
   },
   "file_extension": ".py",
   "mimetype": "text/x-python",
   "name": "python",
   "nbconvert_exporter": "python",
   "pygments_lexer": "ipython3",
   "version": "3.5.2"
  }
 },
 "nbformat": 4,
 "nbformat_minor": 0
}
