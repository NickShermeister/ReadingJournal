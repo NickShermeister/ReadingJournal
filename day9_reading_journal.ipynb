{
 "cells": [
  {
   "cell_type": "markdown",
   "metadata": {},
   "source": [
    "# Day 9 Reading Journal\n",
    "\n",
    "This journal includes several required exercises, but it is meant to encourage active reading more generally.  You should use the journal to take detailed notes, catalog questions, and explore the content from Think Python deeply.\n",
    "\n",
    "Reading: Think Python Chapter 16, 17\n",
    "\n",
    "**Due: Wednesday, February 22 at 12 noon**\n",
    "\n"
   ]
  },
  {
   "cell_type": "markdown",
   "metadata": {},
   "source": [
    "## [Chapter 16](http://www.greenteapress.com/thinkpython2/html/thinkpython2017.html)\n"
   ]
  },
  {
   "cell_type": "markdown",
   "metadata": {
    "is_question": true,
    "problem": "Exercise 16.2"
   },
   "source": [
    "### Chapter 16.1\n",
    "\n",
    "Write a boolean function called `is_after` that takes two `Time` objects, `t1` and `t2`, and returns `True` if `t1` follows `t2` chronologically and `False` otherwise. Challenge: don’t use an `if` statement. "
   ]
  },
  {
   "cell_type": "code",
   "execution_count": 6,
   "metadata": {
    "collapsed": false,
    "solution": "Exercise 16.2"
   },
   "outputs": [
    {
     "name": "stdout",
     "output_type": "stream",
     "text": [
      "Hour: 12\n",
      "Minute: 0\n",
      "Second: 0\n",
      "Ass. They're the same.\n",
      "The second time is earlier.\n"
     ]
    }
   ],
   "source": [
    "class Time:\n",
    "    \"\"\"Represents the time of day.\n",
    "    \n",
    "    attributes: hour, minute, second\n",
    "    \"\"\"\n",
    "\n",
    "def is_after(t1, t2):\n",
    "    if t1.hour > t2.hour:\n",
    "        return False\n",
    "    elif t1.hour < t2.hour:\n",
    "        return True\n",
    "    else:\n",
    "        if t1.minute > t2.minute:\n",
    "            return False\n",
    "        elif t1.minute < t2.minute:\n",
    "            return True\n",
    "        else:\n",
    "            if t1.second > t2.second:\n",
    "                return False\n",
    "            elif t1.second < t2.second:\n",
    "                return True\n",
    "            else:\n",
    "                print(\"Don't be an ass. They're the same.\")\n",
    "                return None\n",
    "    \n",
    "    \n",
    "    \n",
    "time1 = Time()\n",
    "time1.hour = 12\n",
    "time1.minute = 0\n",
    "time1.second = 0\n",
    "\n",
    "time2 = Time()\n",
    "time2.hour = int(input('Hour: '))\n",
    "time2.minute = int(input('Minute: '))\n",
    "time2. second = int(input('Second: '))\n",
    "\n",
    "if is_after(time1, time2):\n",
    "    print(\"The second time is later.\")\n",
    "else:\n",
    "    print(\"The second time is earlier.\")\n",
    "    \n",
    "#in order to do it without an if statemnt, convert everything to seconds and use the following line:\n",
    "#return t1 > t2\n",
    "#if t1>t2 then it is later in the day "
   ]
  },
  {
   "cell_type": "markdown",
   "metadata": {},
   "source": [
    "## [Chapter 17](http://www.greenteapress.com/thinkpython2/html/thinkpython2018.html)\n",
    "\n",
    "In chapter 17 we finally have the tools to really put user-defined classes to work! In the exercises for this reading journal, we'll go back and add methods to your `Point` class from Chapter 15 to make it a lot easier to use."
   ]
  },
  {
   "cell_type": "markdown",
   "metadata": {
    "is_question": true,
    "problem": "Exercise 17.2"
   },
   "source": [
    "### Chapter 17.5\n",
    "\n",
    "Write an init method for the `Point` class that takes `x` and `y` as optional parameters and assigns them to the corresponding attributes. "
   ]
  },
  {
   "cell_type": "code",
   "execution_count": 8,
   "metadata": {
    "collapsed": false,
    "solution": "Exercise 17.2"
   },
   "outputs": [
    {
     "name": "stdout",
     "output_type": "stream",
     "text": [
      "X loc of 5 and Y loc of 5\n"
     ]
    }
   ],
   "source": [
    "class Point:\n",
    "    \"\"\"represents a point in two dimensions\n",
    "    \n",
    "    attributes: x, y\"\"\"\n",
    "    def __init__(self, xnew=0, ynew=0):\n",
    "        self.x = xnew\n",
    "        self.y = ynew\n",
    "        \n",
    "def printpoint(pnt):\n",
    "    print(\"X loc of %d and Y loc of %d\" % (pnt.x, pnt.y))\n",
    "        \n",
    "\n",
    "john = Point(5,5)\n",
    "printpoint(john)"
   ]
  },
  {
   "cell_type": "markdown",
   "metadata": {
    "is_question": true,
    "problem": "Exercise 17.3"
   },
   "source": [
    "### Chapter 17.6 \n",
    "\n",
    "Write a str method for the `Point` class. Create a `Point` object and print it."
   ]
  },
  {
   "cell_type": "code",
   "execution_count": 9,
   "metadata": {
    "collapsed": false,
    "solution": "Exercise 17.3"
   },
   "outputs": [
    {
     "name": "stdout",
     "output_type": "stream",
     "text": [
      "5,5\n"
     ]
    }
   ],
   "source": [
    "class Point:\n",
    "    \"\"\"represents a point in two dimensions\n",
    "    \n",
    "    attributes: x, y\"\"\"\n",
    "    def __init__(self, xnew=0, ynew=0):\n",
    "        self.x = xnew\n",
    "        self.y = ynew\n",
    "        \n",
    "    def __str__(self):\n",
    "        return '%d,%d' % (self.x, self.y)\n",
    "\n",
    "john = Point(5,5)\n",
    "print(john)"
   ]
  },
  {
   "cell_type": "markdown",
   "metadata": {
    "is_question": true,
    "problem": "Exercise 17.4"
   },
   "source": [
    "### Chapter 17.7  \n",
    "\n",
    "Write an add method for the `Point` class. Optional: implement operator overloading so that you can use the '+' operator."
   ]
  },
  {
   "cell_type": "code",
   "execution_count": 10,
   "metadata": {
    "collapsed": false,
    "solution": "Exercise 17.4"
   },
   "outputs": [
    {
     "name": "stdout",
     "output_type": "stream",
     "text": [
      "7,2\n"
     ]
    }
   ],
   "source": [
    "class Point:\n",
    "    \"\"\"represents a point in two dimensions\n",
    "    \n",
    "    attributes: x, y\"\"\"\n",
    "    def __init__(self, xnew=0, ynew=0):\n",
    "        self.x = xnew\n",
    "        self.y = ynew\n",
    "        \n",
    "    def __str__(self):\n",
    "        return '%d,%d' % (self.x, self.y)\n",
    "    \n",
    "    def __add__(self, other):\n",
    "        if isinstance(other, Point):\n",
    "            return self.add_point(other)\n",
    "    \n",
    "    def add_point(self, other):\n",
    "        return Point(self.x + other.x, self.y + other.y)\n",
    "    \n",
    "    \n",
    "john = Point(5,5)\n",
    "nancy = Point (2, -3)\n",
    "print(john + nancy)"
   ]
  },
  {
   "cell_type": "markdown",
   "metadata": {
    "is_question": true,
    "problem": "Exercise 17.7"
   },
   "source": [
    "### Exercise 17.2\n",
    "\n",
    "This exercise is a cautionary tale about one of the most common, and difficult to find, errors in Python. Write a definition for a class named `Kangaroo` with the following methods:\n",
    "\n",
    " 1. An `__init__` method that initializes an attribute named `pouch_contents` to an empty list.\n",
    " 2. A method named `put_in_pouch` that takes an object of any type and adds it to `pouch_contents`.\n",
    " 3. A `__str__` method that returns a string representation of the `Kangaroo` object and the contents of the pouch.\n",
    "\n",
    "Test your code by creating two `Kangaroo` objects, assigning them to variables named `kanga` and `roo`, and then adding `roo` to the contents of `kanga`’s pouch.\n",
    "\n",
    "Download http://greenteapress.com/thinkpython2/code/BadKangaroo.py. It contains a solution to the previous problem with one big, nasty bug. Find and fix the bug.\n",
    "\n",
    "If you get stuck, you can download http://greenteapress.com/thinkpython2/code/GoodKangaroo.py, which explains the problem and demonstrates a solution. "
   ]
  },
  {
   "cell_type": "code",
   "execution_count": 18,
   "metadata": {
    "collapsed": false,
    "solution": "Exercise 17.7"
   },
   "outputs": [
    {
     "name": "stdout",
     "output_type": "stream",
     "text": [
      "I am Roo and the following things are in my pouch: []\n",
      "I am Kanga and the following things are in my pouch: ['wallet', 'car keys', <__main__.Kangaroo object at 0x7f973ff8aac8>]\n",
      "I am Roo and the following things are in my pouch: []\n"
     ]
    }
   ],
   "source": [
    "class Kangaroo:\n",
    "    \"\"\"I'd hate to kangaruin a nice piece of code like this...\"\"\"\n",
    "    \n",
    "    def __init__(self, name, contents = []):\n",
    "        self.name = name\n",
    "        self.pouch_contents = contents\n",
    "        \n",
    "    def __str__(self):\n",
    "        return (\"I am %s and the following things are in my pouch: %s\" % (self.name, self.pouch_contents))\n",
    "        \n",
    "    def put_in_pouch(self, thingie):\n",
    "        self.pouch_contents.append(thingie)\n",
    "        \n",
    "        \n",
    "kanga = Kangaroo('Kanga')      #yes, I stole these tests from the problem to check what the issue was\n",
    "roo = Kangaroo('Roo', [])\n",
    "kanga.put_in_pouch('wallet')\n",
    "kanga.put_in_pouch('car keys')\n",
    "kanga.put_in_pouch(roo)\n",
    "\n",
    "print(roo)\n",
    "print(kanga)\n",
    "print(roo)\n"
   ]
  },
  {
   "cell_type": "markdown",
   "metadata": {
    "poll_response": true,
    "solution": "Time spent"
   },
   "source": [
    " "
   ]
  },
  {
   "cell_type": "markdown",
   "metadata": {
    "is_question": true,
    "problem": "Feedback"
   },
   "source": [
    "## Reading Journal feedback\n",
    "\n",
    "[Please complete this short survey](https://docs.google.com/forms/d/e/1FAIpQLScQekhUrf6YYjpfQiAAbavLIA-IJklv_PX1BWbGgxj7JPolmw/viewform?c=0&w=1)\n",
    "\n",
    "If you have any comments on this Reading Journal, feel free to leave them in the survey linked above. This could include suggestions to improve the exercises, topics you'd like to see covered in class next time, or other feedback.\n",
    "\n",
    "If you have Python questions or run into problems while completing the reading, you should post them to Piazza instead so you can get a quick response before your journal is submitted."
   ]
  },
  {
   "cell_type": "markdown",
   "metadata": {
    "feedback_response": true,
    "solution": "Feedback"
   },
   "source": [
    " "
   ]
  }
 ],
 "metadata": {
  "anaconda-cloud": {},
  "kernelspec": {
   "display_name": "Python 3",
   "language": "python",
   "name": "python3"
  },
  "language_info": {
   "codemirror_mode": {
    "name": "ipython",
    "version": 3
   },
   "file_extension": ".py",
   "mimetype": "text/x-python",
   "name": "python",
   "nbconvert_exporter": "python",
   "pygments_lexer": "ipython3",
   "version": "3.5.2"
  }
 },
 "nbformat": 4,
 "nbformat_minor": 0
}
